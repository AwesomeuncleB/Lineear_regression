{
 "cells": [
  {
   "cell_type": "markdown",
   "id": "eb08873d",
   "metadata": {},
   "source": [
    "# Machine Learning — Price Prediction\n",
    "\n",
    "**Goal:** Predict `TARGET(PRICE_IN_LACS)` using OLS, Ridge, and Lasso. This notebook includes detailed preprocessing, visualizations, model tuning, and evaluation."
   ]
  },
  {
   "cell_type": "code",
   "execution_count": 36,
   "id": "d7d7e3c4",
   "metadata": {},
   "outputs": [],
   "source": [
    "import numpy as np, pandas as pd, os, matplotlib.pyplot as plt, seaborn as sns\n",
    "from IPython.display import display\n",
    "sns.set(style='whitegrid')\n",
    "\n",
    "from sklearn.model_selection import train_test_split, GridSearchCV\n",
    "from sklearn.preprocessing import StandardScaler, OneHotEncoder\n",
    "from sklearn.compose import ColumnTransformer\n",
    "from sklearn.pipeline import Pipeline\n",
    "from sklearn.linear_model import LinearRegression, Ridge, Lasso\n",
    "from sklearn.metrics import mean_squared_error, r2_score, mean_absolute_error, root_mean_squared_error\n"
   ]
  },
  {
   "cell_type": "markdown",
   "id": "a84737e8",
   "metadata": {},
   "source": [
    "## Load dataset\n",
    "We will load `train.csv` and `test.csv` (that we downloaded from kaggle)"
   ]
  },
  {
   "cell_type": "code",
   "execution_count": 27,
   "id": "67ab2fa1",
   "metadata": {},
   "outputs": [
    {
     "name": "stdout",
     "output_type": "stream",
     "text": [
      "Train shape: (29451, 12)\n",
      "Test shape: (68720, 11)\n"
     ]
    },
    {
     "data": {
      "text/html": [
       "<div>\n",
       "<style scoped>\n",
       "    .dataframe tbody tr th:only-of-type {\n",
       "        vertical-align: middle;\n",
       "    }\n",
       "\n",
       "    .dataframe tbody tr th {\n",
       "        vertical-align: top;\n",
       "    }\n",
       "\n",
       "    .dataframe thead th {\n",
       "        text-align: right;\n",
       "    }\n",
       "</style>\n",
       "<table border=\"1\" class=\"dataframe\">\n",
       "  <thead>\n",
       "    <tr style=\"text-align: right;\">\n",
       "      <th></th>\n",
       "      <th>POSTED_BY</th>\n",
       "      <th>UNDER_CONSTRUCTION</th>\n",
       "      <th>RERA</th>\n",
       "      <th>BHK_NO.</th>\n",
       "      <th>BHK_OR_RK</th>\n",
       "      <th>SQUARE_FT</th>\n",
       "      <th>READY_TO_MOVE</th>\n",
       "      <th>RESALE</th>\n",
       "      <th>ADDRESS</th>\n",
       "      <th>LONGITUDE</th>\n",
       "      <th>LATITUDE</th>\n",
       "      <th>TARGET(PRICE_IN_LACS)</th>\n",
       "    </tr>\n",
       "  </thead>\n",
       "  <tbody>\n",
       "    <tr>\n",
       "      <th>0</th>\n",
       "      <td>Owner</td>\n",
       "      <td>0</td>\n",
       "      <td>0</td>\n",
       "      <td>2</td>\n",
       "      <td>BHK</td>\n",
       "      <td>1300.236407</td>\n",
       "      <td>1</td>\n",
       "      <td>1</td>\n",
       "      <td>Ksfc Layout,Bangalore</td>\n",
       "      <td>12.969910</td>\n",
       "      <td>77.597960</td>\n",
       "      <td>55.0</td>\n",
       "    </tr>\n",
       "    <tr>\n",
       "      <th>1</th>\n",
       "      <td>Dealer</td>\n",
       "      <td>0</td>\n",
       "      <td>0</td>\n",
       "      <td>2</td>\n",
       "      <td>BHK</td>\n",
       "      <td>1275.000000</td>\n",
       "      <td>1</td>\n",
       "      <td>1</td>\n",
       "      <td>Vishweshwara Nagar,Mysore</td>\n",
       "      <td>12.274538</td>\n",
       "      <td>76.644605</td>\n",
       "      <td>51.0</td>\n",
       "    </tr>\n",
       "    <tr>\n",
       "      <th>2</th>\n",
       "      <td>Owner</td>\n",
       "      <td>0</td>\n",
       "      <td>0</td>\n",
       "      <td>2</td>\n",
       "      <td>BHK</td>\n",
       "      <td>933.159722</td>\n",
       "      <td>1</td>\n",
       "      <td>1</td>\n",
       "      <td>Jigani,Bangalore</td>\n",
       "      <td>12.778033</td>\n",
       "      <td>77.632191</td>\n",
       "      <td>43.0</td>\n",
       "    </tr>\n",
       "    <tr>\n",
       "      <th>3</th>\n",
       "      <td>Owner</td>\n",
       "      <td>0</td>\n",
       "      <td>1</td>\n",
       "      <td>2</td>\n",
       "      <td>BHK</td>\n",
       "      <td>929.921143</td>\n",
       "      <td>1</td>\n",
       "      <td>1</td>\n",
       "      <td>Sector-1 Vaishali,Ghaziabad</td>\n",
       "      <td>28.642300</td>\n",
       "      <td>77.344500</td>\n",
       "      <td>62.5</td>\n",
       "    </tr>\n",
       "    <tr>\n",
       "      <th>4</th>\n",
       "      <td>Dealer</td>\n",
       "      <td>1</td>\n",
       "      <td>0</td>\n",
       "      <td>2</td>\n",
       "      <td>BHK</td>\n",
       "      <td>999.009247</td>\n",
       "      <td>0</td>\n",
       "      <td>1</td>\n",
       "      <td>New Town,Kolkata</td>\n",
       "      <td>22.592200</td>\n",
       "      <td>88.484911</td>\n",
       "      <td>60.5</td>\n",
       "    </tr>\n",
       "  </tbody>\n",
       "</table>\n",
       "</div>"
      ],
      "text/plain": [
       "  POSTED_BY  UNDER_CONSTRUCTION  RERA  BHK_NO. BHK_OR_RK    SQUARE_FT  \\\n",
       "0     Owner                   0     0        2       BHK  1300.236407   \n",
       "1    Dealer                   0     0        2       BHK  1275.000000   \n",
       "2     Owner                   0     0        2       BHK   933.159722   \n",
       "3     Owner                   0     1        2       BHK   929.921143   \n",
       "4    Dealer                   1     0        2       BHK   999.009247   \n",
       "\n",
       "   READY_TO_MOVE  RESALE                      ADDRESS  LONGITUDE   LATITUDE  \\\n",
       "0              1       1        Ksfc Layout,Bangalore  12.969910  77.597960   \n",
       "1              1       1    Vishweshwara Nagar,Mysore  12.274538  76.644605   \n",
       "2              1       1             Jigani,Bangalore  12.778033  77.632191   \n",
       "3              1       1  Sector-1 Vaishali,Ghaziabad  28.642300  77.344500   \n",
       "4              0       1             New Town,Kolkata  22.592200  88.484911   \n",
       "\n",
       "   TARGET(PRICE_IN_LACS)  \n",
       "0                   55.0  \n",
       "1                   51.0  \n",
       "2                   43.0  \n",
       "3                   62.5  \n",
       "4                   60.5  "
      ]
     },
     "metadata": {},
     "output_type": "display_data"
    }
   ],
   "source": [
    "train = pd.read_csv(\"train.csv\")\n",
    "test = pd.read_csv(\"test.csv\")\n",
    "\n",
    "print('Train shape:', train.shape)\n",
    "print('Test shape:', test.shape)\n",
    "display(train.head())"
   ]
  },
  {
   "cell_type": "markdown",
   "id": "05c3a2ed",
   "metadata": {},
   "source": [
    "## Exploratory Data Analysis (EDA)\n",
    "Quick overview of missing values and basic distributions."
   ]
  },
  {
   "cell_type": "code",
   "execution_count": 28,
   "id": "491b78b1",
   "metadata": {},
   "outputs": [
    {
     "data": {
      "text/plain": [
       "Series([], dtype: int64)"
      ]
     },
     "metadata": {},
     "output_type": "display_data"
    },
    {
     "data": {
      "text/html": [
       "<div>\n",
       "<style scoped>\n",
       "    .dataframe tbody tr th:only-of-type {\n",
       "        vertical-align: middle;\n",
       "    }\n",
       "\n",
       "    .dataframe tbody tr th {\n",
       "        vertical-align: top;\n",
       "    }\n",
       "\n",
       "    .dataframe thead th {\n",
       "        text-align: right;\n",
       "    }\n",
       "</style>\n",
       "<table border=\"1\" class=\"dataframe\">\n",
       "  <thead>\n",
       "    <tr style=\"text-align: right;\">\n",
       "      <th></th>\n",
       "      <th>count</th>\n",
       "      <th>mean</th>\n",
       "      <th>std</th>\n",
       "      <th>min</th>\n",
       "      <th>25%</th>\n",
       "      <th>50%</th>\n",
       "      <th>75%</th>\n",
       "      <th>max</th>\n",
       "    </tr>\n",
       "  </thead>\n",
       "  <tbody>\n",
       "    <tr>\n",
       "      <th>UNDER_CONSTRUCTION</th>\n",
       "      <td>29451.0</td>\n",
       "      <td>0.179756</td>\n",
       "      <td>3.839908e-01</td>\n",
       "      <td>0.000000</td>\n",
       "      <td>0.000000</td>\n",
       "      <td>0.000000</td>\n",
       "      <td>0.000000</td>\n",
       "      <td>1.000000e+00</td>\n",
       "    </tr>\n",
       "    <tr>\n",
       "      <th>RERA</th>\n",
       "      <td>29451.0</td>\n",
       "      <td>0.317918</td>\n",
       "      <td>4.656753e-01</td>\n",
       "      <td>0.000000</td>\n",
       "      <td>0.000000</td>\n",
       "      <td>0.000000</td>\n",
       "      <td>1.000000</td>\n",
       "      <td>1.000000e+00</td>\n",
       "    </tr>\n",
       "    <tr>\n",
       "      <th>BHK_NO.</th>\n",
       "      <td>29451.0</td>\n",
       "      <td>2.392279</td>\n",
       "      <td>8.790913e-01</td>\n",
       "      <td>1.000000</td>\n",
       "      <td>2.000000</td>\n",
       "      <td>2.000000</td>\n",
       "      <td>3.000000</td>\n",
       "      <td>2.000000e+01</td>\n",
       "    </tr>\n",
       "    <tr>\n",
       "      <th>SQUARE_FT</th>\n",
       "      <td>29451.0</td>\n",
       "      <td>19802.170190</td>\n",
       "      <td>1.901335e+06</td>\n",
       "      <td>3.000000</td>\n",
       "      <td>900.021130</td>\n",
       "      <td>1175.056750</td>\n",
       "      <td>1550.688124</td>\n",
       "      <td>2.545455e+08</td>\n",
       "    </tr>\n",
       "    <tr>\n",
       "      <th>READY_TO_MOVE</th>\n",
       "      <td>29451.0</td>\n",
       "      <td>0.820244</td>\n",
       "      <td>3.839908e-01</td>\n",
       "      <td>0.000000</td>\n",
       "      <td>1.000000</td>\n",
       "      <td>1.000000</td>\n",
       "      <td>1.000000</td>\n",
       "      <td>1.000000e+00</td>\n",
       "    </tr>\n",
       "    <tr>\n",
       "      <th>RESALE</th>\n",
       "      <td>29451.0</td>\n",
       "      <td>0.929578</td>\n",
       "      <td>2.558613e-01</td>\n",
       "      <td>0.000000</td>\n",
       "      <td>1.000000</td>\n",
       "      <td>1.000000</td>\n",
       "      <td>1.000000</td>\n",
       "      <td>1.000000e+00</td>\n",
       "    </tr>\n",
       "    <tr>\n",
       "      <th>LONGITUDE</th>\n",
       "      <td>29451.0</td>\n",
       "      <td>21.300255</td>\n",
       "      <td>6.205306e+00</td>\n",
       "      <td>-37.713008</td>\n",
       "      <td>18.452663</td>\n",
       "      <td>20.750000</td>\n",
       "      <td>26.900926</td>\n",
       "      <td>5.991288e+01</td>\n",
       "    </tr>\n",
       "    <tr>\n",
       "      <th>LATITUDE</th>\n",
       "      <td>29451.0</td>\n",
       "      <td>76.837695</td>\n",
       "      <td>1.055775e+01</td>\n",
       "      <td>-121.761248</td>\n",
       "      <td>73.798100</td>\n",
       "      <td>77.324137</td>\n",
       "      <td>77.828740</td>\n",
       "      <td>1.529627e+02</td>\n",
       "    </tr>\n",
       "    <tr>\n",
       "      <th>TARGET(PRICE_IN_LACS)</th>\n",
       "      <td>29451.0</td>\n",
       "      <td>142.898746</td>\n",
       "      <td>6.568807e+02</td>\n",
       "      <td>0.250000</td>\n",
       "      <td>38.000000</td>\n",
       "      <td>62.000000</td>\n",
       "      <td>100.000000</td>\n",
       "      <td>3.000000e+04</td>\n",
       "    </tr>\n",
       "  </tbody>\n",
       "</table>\n",
       "</div>"
      ],
      "text/plain": [
       "                         count          mean           std         min  \\\n",
       "UNDER_CONSTRUCTION     29451.0      0.179756  3.839908e-01    0.000000   \n",
       "RERA                   29451.0      0.317918  4.656753e-01    0.000000   \n",
       "BHK_NO.                29451.0      2.392279  8.790913e-01    1.000000   \n",
       "SQUARE_FT              29451.0  19802.170190  1.901335e+06    3.000000   \n",
       "READY_TO_MOVE          29451.0      0.820244  3.839908e-01    0.000000   \n",
       "RESALE                 29451.0      0.929578  2.558613e-01    0.000000   \n",
       "LONGITUDE              29451.0     21.300255  6.205306e+00  -37.713008   \n",
       "LATITUDE               29451.0     76.837695  1.055775e+01 -121.761248   \n",
       "TARGET(PRICE_IN_LACS)  29451.0    142.898746  6.568807e+02    0.250000   \n",
       "\n",
       "                              25%          50%          75%           max  \n",
       "UNDER_CONSTRUCTION       0.000000     0.000000     0.000000  1.000000e+00  \n",
       "RERA                     0.000000     0.000000     1.000000  1.000000e+00  \n",
       "BHK_NO.                  2.000000     2.000000     3.000000  2.000000e+01  \n",
       "SQUARE_FT              900.021130  1175.056750  1550.688124  2.545455e+08  \n",
       "READY_TO_MOVE            1.000000     1.000000     1.000000  1.000000e+00  \n",
       "RESALE                   1.000000     1.000000     1.000000  1.000000e+00  \n",
       "LONGITUDE               18.452663    20.750000    26.900926  5.991288e+01  \n",
       "LATITUDE                73.798100    77.324137    77.828740  1.529627e+02  \n",
       "TARGET(PRICE_IN_LACS)   38.000000    62.000000   100.000000  3.000000e+04  "
      ]
     },
     "metadata": {},
     "output_type": "display_data"
    },
    {
     "data": {
      "image/png": "[encoded data removed]",
      "text/plain": [
       "<Figure size 800x500 with 1 Axes>"
      ]
     },
     "metadata": {},
     "output_type": "display_data"
    }
   ],
   "source": [
    "# Missing values summary\n",
    "missing = train.isnull().sum().sort_values(ascending=False)\n",
    "display(missing[missing>0].head(30))\n",
    "\n",
    "# Describe numeric columns\n",
    "display(train.describe().T)\n",
    "\n",
    "# Histogram of target\n",
    "plt.figure(figsize=(8,5))\n",
    "sns.histplot(train['TARGET(PRICE_IN_LACS)'], bins=50, kde=True)\n",
    "plt.title('Target Distribution: PRICE_IN_LACS')\n",
    "plt.show()"
   ]
  },
  {
   "cell_type": "markdown",
   "id": "fa3d5a12",
   "metadata": {},
   "source": [
    "## Preprocessing plan\n",
    "\n",
    "**Steps:**\n",
    "1. Handle missing values: median for numeric, mode for categorical.\n",
    "2. Encode categorical variables: one-hot for nominal; binary columns kept as-is.\n",
    "3. Scale numeric features using StandardScaler.\n",
    "4. Optionally remove extreme outliers (capping at 99th percentile) — this cell demonstrates a conservative approach.\n",
    "\n",
    "All preprocessing is wrapped into a `ColumnTransformer` + `Pipeline` so it is reproducible and safe for cross-validation."
   ]
  },
  {
   "cell_type": "code",
   "execution_count": 29,
   "id": "69d874d3",
   "metadata": {},
   "outputs": [
    {
     "name": "stdout",
     "output_type": "stream",
     "text": [
      "After capping, train shape: (29156, 12)\n"
     ]
    }
   ],
   "source": [
    "numeric_cols = ['BHK_NO.', 'SQUARE_FT', 'LONGITUDE', 'LATITUDE']\n",
    "categorical_cols = ['POSTED_BY', 'UNDER_CONSTRUCTION', 'RERA', 'READY_TO_MOVE', 'RESALE', 'BHK_OR_RK']\n",
    "\n",
    "# Ensure columns exist\n",
    "for c in numeric_cols + categorical_cols:\n",
    "    if c not in train.columns:\n",
    "        raise ValueError(f'Expected column {c} not found in train.csv. Columns available: {list(train.columns)}')\n",
    "\n",
    "# --- Fill Missing Values ---\n",
    "train_proc = train.copy()\n",
    "for col in numeric_cols:\n",
    "    train_proc[col] = train_proc[col].fillna(train_proc[col].median())\n",
    "for col in categorical_cols:\n",
    "    train_proc[col] = train_proc[col].fillna(train_proc[col].mode()[0])\n",
    "\n",
    "# Cap outliers\n",
    "sq_up = train_proc['SQUARE_FT'].quantile(0.99)\n",
    "train_proc = train_proc[train_proc['SQUARE_FT'] <= sq_up].reset_index(drop=True)\n",
    "print('After capping, train shape:', train_proc.shape)"
   ]
  },
  {
   "cell_type": "code",
   "execution_count": 30,
   "id": "2ee49b28",
   "metadata": {},
   "outputs": [
    {
     "data": {
      "image/png": "[encoded data removed]",
      "text/plain": [
       "<Figure size 600x400 with 2 Axes>"
      ]
     },
     "metadata": {},
     "output_type": "display_data"
    }
   ],
   "source": [
    "plt.figure(figsize=(6,4))\n",
    "sns.heatmap(train_proc[numeric_cols + ['TARGET(PRICE_IN_LACS)']].corr(), annot=True, cmap='coolwarm')\n",
    "plt.title('Numeric Feature Correlations')\n",
    "plt.show()"
   ]
  },
  {
   "cell_type": "code",
   "execution_count": 31,
   "id": "80d3fb3b",
   "metadata": {},
   "outputs": [],
   "source": [
    "numeric_transformer = Pipeline([\n",
    "    ('scaler', StandardScaler())\n",
    "])\n",
    "categorical_transformer = Pipeline([\n",
    "    ('onehot', OneHotEncoder(handle_unknown='ignore', sparse_output=False))\n",
    "])\n",
    "\n",
    "preprocessor = ColumnTransformer(transformers=[\n",
    "    ('num', numeric_transformer, numeric_cols),\n",
    "    ('cat', categorical_transformer, categorical_cols)\n",
    "])"
   ]
  },
  {
   "cell_type": "markdown",
   "id": "c11bbf1e",
   "metadata": {},
   "source": [
    "## Train-Test Split and Log Transformation\n"
   ]
  },
  {
   "cell_type": "code",
   "execution_count": 60,
   "id": "1dd137b0",
   "metadata": {},
   "outputs": [
    {
     "name": "stdout",
     "output_type": "stream",
     "text": [
      "X_train: (23324, 11) X_test: (5832, 11)\n"
     ]
    }
   ],
   "source": [
    "X = train_proc.drop(columns=['TARGET(PRICE_IN_LACS)'])\n",
    "y = train_proc['TARGET(PRICE_IN_LACS)']\n",
    "\n",
    "# --- Train/test split ---\n",
    "X_train, X_test, y_train, y_test = train_test_split(\n",
    "    X, y, test_size=0.2, random_state=42\n",
    ")\n",
    "print('X_train:', X_train.shape, 'X_test:', X_test.shape)\n",
    "\n",
    "# Log-transform target\n",
    "y_train_log = np.log1p(y_train)\n",
    "y_test_log = np.log1p(y_test)"
   ]
  },
  {
   "cell_type": "markdown",
   "id": "ef6cee20",
   "metadata": {},
   "source": [
    "### Model 1: OLS (Linear Regression)"
   ]
  },
  {
   "cell_type": "code",
   "execution_count": 61,
   "id": "081cf30b",
   "metadata": {},
   "outputs": [
    {
     "name": "stdout",
     "output_type": "stream",
     "text": [
      "OLS — RMSE: 118.9042 | MAE: 46.6268 | R²: 0.2450\n"
     ]
    }
   ],
   "source": [
    "ols_pipeline = Pipeline([\n",
    "    ('preprocessor', preprocessor),\n",
    "    ('model', LinearRegression())\n",
    "])\n",
    "\n",
    "ols_pipeline.fit(X_train, y_train_log)\n",
    "y_pred_ols_log = ols_pipeline.predict(X_test)\n",
    "y_pred_ols = np.expm1(y_pred_ols_log)  # inverse log transform\n",
    "\n",
    "rmse_ols = root_mean_squared_error(y_test, y_pred_ols)\n",
    "mae_ols = mean_absolute_error(y_test, y_pred_ols)\n",
    "r2_ols = r2_score(y_test, y_pred_ols)\n",
    "\n",
    "print(f'OLS — RMSE: {rmse_ols:.4f} | MAE: {mae_ols:.4f} | R²: {r2_ols:.4f}')"
   ]
  },
  {
   "cell_type": "markdown",
   "id": "f0ce0cd2",
   "metadata": {},
   "source": [
    "### Model 2: Ridge Regression (GridSearchCV)"
   ]
  },
  {
   "cell_type": "code",
   "execution_count": 63,
   "id": "e62fa71b",
   "metadata": {},
   "outputs": [
    {
     "name": "stdout",
     "output_type": "stream",
     "text": [
      "Best Ridge params: {'model__alpha': 10.0}\n",
      "Ridge — RMSE: 118.8959 | MAE: 46.6285 | R²: 0.2451\n"
     ]
    }
   ],
   "source": [
    "ridge_pipeline = Pipeline([\n",
    "    ('preprocessor', preprocessor),\n",
    "    ('model', Ridge())\n",
    "])\n",
    "\n",
    "ridge_params = {'model__alpha': [0.01, 0.1, 1.0, 10.0, 50.0, 100.0]}\n",
    "\n",
    "ridge_grid = GridSearchCV(\n",
    "    ridge_pipeline,\n",
    "    ridge_params,\n",
    "    cv=5,\n",
    "    scoring='neg_root_mean_squared_error',\n",
    "    n_jobs=-1\n",
    ")\n",
    "ridge_grid.fit(X_train, y_train_log)\n",
    "\n",
    "print('Best Ridge params:', ridge_grid.best_params_)\n",
    "\n",
    "y_pred_ridge_log = ridge_grid.predict(X_test)\n",
    "y_pred_ridge = np.expm1(y_pred_ridge_log)\n",
    "\n",
    "rmse_ridge = root_mean_squared_error(y_test, y_pred_ridge)\n",
    "mae_ridge = mean_absolute_error(y_test, y_pred_ridge)\n",
    "r2_ridge = r2_score(y_test, y_pred_ridge)\n",
    "\n",
    "print(f'Ridge — RMSE: {rmse_ridge:.4f} | MAE: {mae_ridge:.4f} | R²: {r2_ridge:.4f}')\n"
   ]
  },
  {
   "cell_type": "markdown",
   "id": "e4f6d7c4",
   "metadata": {},
   "source": [
    "### Model 3: Lasso Regression (GridSearchCV)"
   ]
  },
  {
   "cell_type": "code",
   "execution_count": 64,
   "id": "338b11c5",
   "metadata": {},
   "outputs": [
    {
     "name": "stdout",
     "output_type": "stream",
     "text": [
      "Best Lasso params: {'model__alpha': 0.0001}\n",
      "Lasso — RMSE: 118.8865 | MAE: 46.6278 | R²: 0.2453\n"
     ]
    }
   ],
   "source": [
    "lasso_pipeline = Pipeline([\n",
    "    ('preprocessor', preprocessor),\n",
    "    ('model', Lasso(max_iter=10000))\n",
    "])\n",
    "\n",
    "lasso_params = {'model__alpha': [0.0001, 0.001, 0.01, 0.1, 1.0]}\n",
    "\n",
    "lasso_grid = GridSearchCV(\n",
    "    lasso_pipeline,\n",
    "    lasso_params,\n",
    "    cv=5,\n",
    "    scoring='neg_root_mean_squared_error',\n",
    "    n_jobs=-1\n",
    ")\n",
    "lasso_grid.fit(X_train, y_train_log)\n",
    "\n",
    "print('Best Lasso params:', lasso_grid.best_params_)\n",
    "\n",
    "y_pred_lasso_log = lasso_grid.predict(X_test)\n",
    "y_pred_lasso = np.expm1(y_pred_lasso_log)\n",
    "\n",
    "rmse_lasso = root_mean_squared_error(y_test, y_pred_lasso)\n",
    "mae_lasso = mean_absolute_error(y_test, y_pred_lasso)\n",
    "r2_lasso = r2_score(y_test, y_pred_lasso)\n",
    "\n",
    "print(f'Lasso — RMSE: {rmse_lasso:.4f} | MAE: {mae_lasso:.4f} | R²: {r2_lasso:.4f}')"
   ]
  },
  {
   "cell_type": "markdown",
   "id": "b00fceec",
   "metadata": {},
   "source": [
    "## Model comparison and selection\n",
    "We report RMSE, MAE (just to see) and R² for each model and pick the best based on RMSE (lower is better)."
   ]
  },
  {
   "cell_type": "code",
   "execution_count": 65,
   "id": "9fd3e07e",
   "metadata": {},
   "outputs": [
    {
     "name": "stdout",
     "output_type": "stream",
     "text": [
      "\n",
      "📊 Model Comparison:\n"
     ]
    },
    {
     "data": {
      "text/html": [
       "<div>\n",
       "<style scoped>\n",
       "    .dataframe tbody tr th:only-of-type {\n",
       "        vertical-align: middle;\n",
       "    }\n",
       "\n",
       "    .dataframe tbody tr th {\n",
       "        vertical-align: top;\n",
       "    }\n",
       "\n",
       "    .dataframe thead th {\n",
       "        text-align: right;\n",
       "    }\n",
       "</style>\n",
       "<table border=\"1\" class=\"dataframe\">\n",
       "  <thead>\n",
       "    <tr style=\"text-align: right;\">\n",
       "      <th></th>\n",
       "      <th>Model</th>\n",
       "      <th>RMSE</th>\n",
       "      <th>MAE</th>\n",
       "      <th>R²</th>\n",
       "    </tr>\n",
       "  </thead>\n",
       "  <tbody>\n",
       "    <tr>\n",
       "      <th>2</th>\n",
       "      <td>Lasso</td>\n",
       "      <td>118.886497</td>\n",
       "      <td>46.627818</td>\n",
       "      <td>0.245252</td>\n",
       "    </tr>\n",
       "    <tr>\n",
       "      <th>1</th>\n",
       "      <td>Ridge</td>\n",
       "      <td>118.895890</td>\n",
       "      <td>46.628489</td>\n",
       "      <td>0.245133</td>\n",
       "    </tr>\n",
       "    <tr>\n",
       "      <th>0</th>\n",
       "      <td>OLS</td>\n",
       "      <td>118.904236</td>\n",
       "      <td>46.626754</td>\n",
       "      <td>0.245027</td>\n",
       "    </tr>\n",
       "  </tbody>\n",
       "</table>\n",
       "</div>"
      ],
      "text/plain": [
       "   Model        RMSE        MAE        R²\n",
       "2  Lasso  118.886497  46.627818  0.245252\n",
       "1  Ridge  118.895890  46.628489  0.245133\n",
       "0    OLS  118.904236  46.626754  0.245027"
      ]
     },
     "metadata": {},
     "output_type": "display_data"
    }
   ],
   "source": [
    "results = pd.DataFrame({\n",
    "    'Model': ['OLS', 'Ridge', 'Lasso'],\n",
    "    'RMSE': [rmse_ols, rmse_ridge, rmse_lasso],\n",
    "    'MAE': [mae_ols, mae_ridge, mae_lasso],\n",
    "    'R²': [r2_ols, r2_ridge, r2_lasso]\n",
    "})\n",
    "\n",
    "print(\"\\n📊 Model Comparison:\")\n",
    "display(results.sort_values(by='RMSE'))"
   ]
  },
  {
   "cell_type": "markdown",
   "id": "eaef4b2f",
   "metadata": {},
   "source": [
    "##  Best Model Selection\n"
   ]
  },
  {
   "cell_type": "code",
   "execution_count": 66,
   "id": "cfb2f4fe",
   "metadata": {},
   "outputs": [
    {
     "name": "stdout",
     "output_type": "stream",
     "text": [
      "✅ Best model: Lasso\n"
     ]
    }
   ],
   "source": [
    "best_idx = results['RMSE'].idxmin()\n",
    "best_model_name = results.loc[best_idx, 'Model']\n",
    "print(f'✅ Best model: {best_model_name}')\n",
    "\n",
    "if best_model_name == 'OLS':\n",
    "    best_pipeline = ols_pipeline\n",
    "    y_pred_best = y_pred_ols\n",
    "elif best_model_name == 'Ridge':\n",
    "    best_pipeline = ridge_grid.best_estimator_\n",
    "    y_pred_best = y_pred_ridge\n",
    "else:\n",
    "    best_pipeline = lasso_grid.best_estimator_\n",
    "    y_pred_best = y_pred_lasso"
   ]
  },
  {
   "cell_type": "markdown",
   "id": "464be07a",
   "metadata": {},
   "source": [
    "##  Actual vs Predicted Prices Visualization"
   ]
  },
  {
   "cell_type": "code",
   "execution_count": 67,
   "id": "2c73694c",
   "metadata": {},
   "outputs": [
    {
     "data": {
      "image/png": "[encoded data removed]",
      "text/plain": [
       "<Figure size 600x600 with 1 Axes>"
      ]
     },
     "metadata": {},
     "output_type": "display_data"
    }
   ],
   "source": [
    "plt.figure(figsize=(6,6))\n",
    "plt.scatter(y_test, y_pred_best, alpha=0.5)\n",
    "plt.xlabel(\"Actual Prices\")\n",
    "plt.ylabel(\"Predicted Prices\")\n",
    "plt.title(f\"Actual vs Predicted Prices ({best_model_name})\")\n",
    "plt.plot([y_test.min(), y_test.max()], [y_test.min(), y_test.max()], 'r--')\n",
    "plt.show()"
   ]
  },
  {
   "cell_type": "markdown",
   "id": "860c9af8",
   "metadata": {},
   "source": [
    "## Final Inference and Submission Generation\n"
   ]
  },
  {
   "cell_type": "code",
   "execution_count": 70,
   "id": "4711f83b",
   "metadata": {},
   "outputs": [
    {
     "name": "stderr",
     "output_type": "stream",
     "text": [
      "C:\\Users\\Bello\\AppData\\Local\\Temp\\ipykernel_11288\\18004096.py:17: RuntimeWarning: overflow encountered in expm1\n",
      "  preds_test = np.expm1(preds_test_log)\n"
     ]
    },
    {
     "name": "stdout",
     "output_type": "stream",
     "text": [
      "Saved predictions to submission_from_notebook.csv\n"
     ]
    }
   ],
   "source": [
    "test_proc = test.copy()\n",
    "for col in numeric_cols:\n",
    "    if col in test_proc.columns:\n",
    "        test_proc[col] = test_proc[col].fillna(train_proc[col].median())\n",
    "for col in categorical_cols:\n",
    "    if col in test_proc.columns:\n",
    "        test_proc[col] = test_proc[col].fillna(train_proc[col].mode()[0])\n",
    "\n",
    "# Select only the same columns used in training\n",
    "try:\n",
    "    X_test_final = test_proc[numeric_cols + categorical_cols]\n",
    "    \n",
    "    # Predict with the best model\n",
    "    preds_test_log = best_pipeline.predict(X_test_final)\n",
    "    \n",
    "    # ✅ Inverse log-transform predictions to get actual prices\n",
    "    preds_test = np.expm1(preds_test_log)\n",
    "    \n",
    "    # Add predictions back to test DataFrame\n",
    "    out = test_proc.copy()\n",
    "    out['TARGET(PRICE_IN_LACS)'] = preds_test\n",
    "    \n",
    "    # Save submission file\n",
    "    out[['TARGET(PRICE_IN_LACS)']].to_csv('submission_from_notebook.csv', index=False)\n",
    "    print('Saved predictions to submission_from_notebook.csv')\n",
    "except Exception as e:\n",
    "    print('Could not predict on test.csv automatically:', e)\n"
   ]
  },
  {
   "cell_type": "markdown",
   "id": "21419749",
   "metadata": {},
   "source": [
    "## Conclusion\n",
    "\n",
    "In this notebook, we built and evaluated multiple regression models — including **Ordinary Least Squares (OLS)**, **Ridge**, and **Lasso** — to predict house prices (`TARGET(PRICE_IN_LACS)`) based on various features.  \n",
    "\n",
    "After preprocessing the data, performing feature engineering, and applying log-transformation to stabilize the target distribution, we trained and compared model performance using **Root Mean Squared Error (RMSE)** as the key metric.\n",
    "\n",
    "The best-performing model was **{Lasso}**, which achieved the lowest RMSE on the validation set, indicating strong predictive accuracy and good generalization.\n",
    "\n",
    "Finally, we applied the optimized model pipeline to the test dataset, generated predictions, inverse-transformed them to the original price scale, and saved the output as `submission_from_notebook.csv` — ready for submission or deployment.\n",
    "\n",
    "This workflow demonstrates a complete end-to-end machine learning pipeline:  \n",
    "**Data cleaning → Feature preprocessing → Model training → Evaluation → Prediction → Submission.**"
   ]
  }
 ],
 "metadata": {
  "kernelspec": {
   "display_name": "Python 3",
   "language": "python",
   "name": "python3"
  },
  "language_info": {
   "codemirror_mode": {
    "name": "ipython",
    "version": 3
   },
   "file_extension": ".py",
   "mimetype": "text/x-python",
   "name": "python",
   "nbconvert_exporter": "python",
   "pygments_lexer": "ipython3",
   "version": "3.12.10"
  }
 },
 "nbformat": 4,
 "nbformat_minor": 5
}
