{
 "cells": [
  {
   "cell_type": "markdown",
   "id": "eb08873d",
   "metadata": {},
   "source": [
    "# Machine Learning — Price Prediction\n",
    "\n",
    "**Goal:** Predict `TARGET(PRICE_IN_LACS)` using OLS, Ridge, and Lasso. This notebook includes detailed preprocessing, visualizations, model tuning, and evaluation."
   ]
  },
  {
   "cell_type": "code",
   "execution_count": null,
   "id": "d7d7e3c4",
   "metadata": {},
   "outputs": [],
   "source": [
    "import numpy as np, pandas as pd, os, matplotlib.pyplot as plt, seaborn as sns\n",
    "from IPython.display import display\n",
    "sns.set(style='whitegrid')\n",
    "\n",
    "from sklearn.model_selection import train_test_split, GridSearchCV\n",
    "from sklearn.preprocessing import StandardScaler, OneHotEncoder\n",
    "from sklearn.compose import ColumnTransformer\n",
    "from sklearn.pipeline import Pipeline\n",
    "from sklearn.linear_model import LinearRegression, Ridge, Lasso\n",
    "from sklearn.metrics import mean_squared_error, r2_score\n",
    "\n",
    "print('Files in /mnt/data:', os.listdir('/mnt/data'))"
   ]
  },
  {
   "cell_type": "markdown",
   "id": "a84737e8",
   "metadata": {},
   "source": [
    "## Load dataset\n",
    "We will load `train.csv` and `test.csv` from `/mnt/data` (you uploaded them)."
   ]
  },
  {
   "cell_type": "code",
   "execution_count": null,
   "id": "67ab2fa1",
   "metadata": {},
   "outputs": [],
   "source": [
    "train_path = '/mnt/data/train.csv'\n",
    "test_path = '/mnt/data/test.csv'\n",
    "\n",
    "train = pd.read_csv(train_path)\n",
    "test = pd.read_csv(test_path)\n",
    "print('Train shape:', train.shape)\n",
    "print('Test shape:', test.shape)\n",
    "display(train.head())"
   ]
  },
  {
   "cell_type": "markdown",
   "id": "05c3a2ed",
   "metadata": {},
   "source": [
    "## Exploratory Data Analysis (EDA)\n",
    "Quick overview of missing values and basic distributions."
   ]
  },
  {
   "cell_type": "code",
   "execution_count": null,
   "id": "491b78b1",
   "metadata": {},
   "outputs": [],
   "source": [
    "# Missing values summary\n",
    "missing = train.isnull().sum().sort_values(ascending=False)\n",
    "display(missing[missing>0].head(30))\n",
    "\n",
    "# Describe numeric columns\n",
    "display(train.describe().T)\n",
    "\n",
    "# Histogram of target\n",
    "plt.figure(figsize=(8,5))\n",
    "sns.histplot(train['TARGET(PRICE_IN_LACS)'], bins=50, kde=True)\n",
    "plt.title('Target Distribution: PRICE_IN_LACS')\n",
    "plt.show()"
   ]
  },
  {
   "cell_type": "markdown",
   "id": "fa3d5a12",
   "metadata": {},
   "source": [
    "## Preprocessing plan\n",
    "\n",
    "**Steps:**\n",
    "1. Handle missing values: median for numeric, mode for categorical.\n",
    "2. Encode categorical variables: one-hot for nominal; binary columns kept as-is.\n",
    "3. Scale numeric features using StandardScaler.\n",
    "4. Optionally remove extreme outliers (capping at 99th percentile) — this cell demonstrates a conservative approach.\n",
    "\n",
    "All preprocessing is wrapped into a `ColumnTransformer` + `Pipeline` so it is reproducible and safe for cross-validation."
   ]
  },
  {
   "cell_type": "code",
   "execution_count": null,
   "id": "69d874d3",
   "metadata": {},
   "outputs": [],
   "source": [
    "# Columns (adjust if your CSV differs)\n",
    "numeric_cols = ['BHK_NO.', 'SQUARE_FT', 'LONGITUDE', 'LATITUDE']\n",
    "categorical_cols = ['POSTED_BY', 'UNDER_CONSTRUCTION', 'RERA', 'READY_TO_MOVE', 'RESALE', 'BHK_OR_RK']\n",
    "\n",
    "# Ensure columns exist\n",
    "for c in numeric_cols + categorical_cols:\n",
    "    if c not in train.columns:\n",
    "        raise ValueError(f'Expected column {c} not found in train.csv. Columns available: {list(train.columns)}')\n",
    "\n",
    "# Impute and cap\n",
    "train_proc = train.copy()\n",
    "for col in numeric_cols:\n",
    "    train_proc[col].fillna(train_proc[col].median(), inplace=True)\n",
    "for col in categorical_cols:\n",
    "    train_proc[col].fillna(train_proc[col].mode()[0], inplace=True)\n",
    "\n",
    "# Cap 99th percentile of SQUARE_FT\n",
    "sq_up = train_proc['SQUARE_FT'].quantile(0.99)\n",
    "train_proc = train_proc[train_proc['SQUARE_FT'] <= sq_up].reset_index(drop=True)\n",
    "print('After capping, train shape:', train_proc.shape)"
   ]
  },
  {
   "cell_type": "code",
   "execution_count": null,
   "id": "2ee49b28",
   "metadata": {},
   "outputs": [],
   "source": [
    "plt.figure(figsize=(6,4))\n",
    "sns.heatmap(train_proc[numeric_cols + ['TARGET(PRICE_IN_LACS)']].corr(), annot=True, cmap='coolwarm')\n",
    "plt.title('Numeric Feature Correlations')\n",
    "plt.show()"
   ]
  },
  {
   "cell_type": "code",
   "execution_count": null,
   "id": "80d3fb3b",
   "metadata": {},
   "outputs": [],
   "source": [
    "numeric_transformer = Pipeline([('scaler', StandardScaler())])\n",
    "\n",
    "categorical_transformer = Pipeline([('onehot', OneHotEncoder(handle_unknown='ignore', sparse=False))])\n",
    "\n",
    "preprocessor = ColumnTransformer(transformers=[\n",
    "    ('num', numeric_transformer, numeric_cols),\n",
    "    ('cat', categorical_transformer, categorical_cols)\n",
    "])\n",
    "\n",
    "# Fit transform sample\n",
    "X_sample = train_proc.drop(columns=['TARGET(PRICE_IN_LACS)'])\n",
    "y_sample = train_proc['TARGET(PRICE_IN_LACS)']\n",
    "X_trans = preprocessor.fit_transform(X_sample)\n",
    "print('Preprocessed shape (sample):', X_trans.shape)"
   ]
  },
  {
   "cell_type": "code",
   "execution_count": null,
   "id": "d4cc2d73",
   "metadata": {},
   "outputs": [],
   "source": [
    "X = train_proc.drop(columns=['TARGET(PRICE_IN_LACS)'])\n",
    "y = train_proc['TARGET(PRICE_IN_LACS)']\n",
    "\n",
    "X_train, X_test, y_train, y_test = train_test_split(X, y, test_size=0.2, random_state=42)\n",
    "print('X_train:', X_train.shape, 'X_test:', X_test.shape)"
   ]
  },
  {
   "cell_type": "markdown",
   "id": "ef6cee20",
   "metadata": {},
   "source": [
    "### Model 1: OLS (Linear Regression)"
   ]
  },
  {
   "cell_type": "code",
   "execution_count": null,
   "id": "081cf30b",
   "metadata": {},
   "outputs": [],
   "source": [
    "ols_pipeline = Pipeline([('preprocessor', preprocessor), ('model', LinearRegression())])\n",
    "ols_pipeline.fit(X_train, y_train)\n",
    "y_pred_ols = ols_pipeline.predict(X_test)\n",
    "\n",
    "rmse_ols = mean_squared_error(y_test, y_pred_ols, squared=False)\n",
    "r2_ols = r2_score(y_test, y_pred_ols)\n",
    "print(f'OLS — RMSE: {rmse_ols:.4f} | R2: {r2_ols:.4f}')"
   ]
  },
  {
   "cell_type": "markdown",
   "id": "f0ce0cd2",
   "metadata": {},
   "source": [
    "### Model 2: Ridge Regression (GridSearchCV)"
   ]
  },
  {
   "cell_type": "code",
   "execution_count": null,
   "id": "e62fa71b",
   "metadata": {},
   "outputs": [],
   "source": [
    "ridge_pipeline = Pipeline([('preprocessor', preprocessor), ('model', Ridge())])\n",
    "ridge_params = {'model__alpha': [0.01, 0.1, 1.0, 10.0, 50.0, 100.0]}\n",
    "ridge_grid = GridSearchCV(ridge_pipeline, ridge_params, cv=5, scoring='neg_root_mean_squared_error', n_jobs=-1)\n",
    "ridge_grid.fit(X_train, y_train)\n",
    "print('Best Ridge params:', ridge_grid.best_params_)\n",
    "y_pred_ridge = ridge_grid.predict(X_test)\n",
    "rmse_ridge = mean_squared_error(y_test, y_pred_ridge, squared=False)\n",
    "r2_ridge = r2_score(y_test, y_pred_ridge)\n",
    "print(f'Ridge — RMSE: {rmse_ridge:.4f} | R2: {r2_ridge:.4f}')"
   ]
  },
  {
   "cell_type": "markdown",
   "id": "e4f6d7c4",
   "metadata": {},
   "source": [
    "### Model 3: Lasso Regression (GridSearchCV)"
   ]
  },
  {
   "cell_type": "code",
   "execution_count": null,
   "id": "338b11c5",
   "metadata": {},
   "outputs": [],
   "source": [
    "lasso_pipeline = Pipeline([('preprocessor', preprocessor), ('model', Lasso(max_iter=10000))])\n",
    "lasso_params = {'model__alpha': [0.0001, 0.001, 0.01, 0.1, 1.0]}\n",
    "lasso_grid = GridSearchCV(lasso_pipeline, lasso_params, cv=5, scoring='neg_root_mean_squared_error', n_jobs=-1)\n",
    "lasso_grid.fit(X_train, y_train)\n",
    "print('Best Lasso params:', lasso_grid.best_params_)\n",
    "y_pred_lasso = lasso_grid.predict(X_test)\n",
    "rmse_lasso = mean_squared_error(y_test, y_pred_lasso, squared=False)\n",
    "r2_lasso = r2_score(y_test, y_pred_lasso)\n",
    "print(f'Lasso — RMSE: {rmse_lasso:.4f} | R2: {r2_lasso:.4f}')"
   ]
  },
  {
   "cell_type": "markdown",
   "id": "b00fceec",
   "metadata": {},
   "source": [
    "## Model comparison and selection\n",
    "We report RMSE and R² for each model and pick the best based on RMSE (lower is better)."
   ]
  },
  {
   "cell_type": "code",
   "execution_count": null,
   "id": "9fd3e07e",
   "metadata": {},
   "outputs": [],
   "source": [
    "results = []\n",
    "for name, (rmse, r2) in [('OLS',(rmse_ols, r2_ols)), ('Ridge',(rmse_ridge, r2_ridge)), ('Lasso',(rmse_lasso, r2_lasso))]:\n",
    "    results.append({'model': name, 'rmse': rmse, 'r2': r2})\n",
    "results_df = pd.DataFrame(results).sort_values('rmse')\n",
    "display(results_df)\n",
    "best_model_name = results_df.iloc[0]['model']\n",
    "print('Best model by RMSE:', best_model_name)\n",
    "\n",
    "best_pipeline = {'OLS': ols_pipeline, 'Ridge': ridge_grid.best_estimator_, 'Lasso': lasso_grid.best_estimator_}[best_model_name]\n"
   ]
  },
  {
   "cell_type": "markdown",
   "id": "eaef4b2f",
   "metadata": {},
   "source": [
    "### Coefficients / Interpretability\n",
    "Inspect linear coefficients for the final selected linear model."
   ]
  },
  {
   "cell_type": "code",
   "execution_count": null,
   "id": "cfb2f4fe",
   "metadata": {},
   "outputs": [],
   "source": [
    "onehot = preprocessor.named_transformers_['cat']['onehot']\n",
    "cat_names = onehot.get_feature_names_out(categorical_cols)\n",
    "feature_names = numeric_cols + list(cat_names)\n",
    "\n",
    "if best_model_name in ['OLS','Ridge','Lasso']:\n",
    "    coef = best_pipeline.named_steps['model'].coef_\n",
    "    coef_df = pd.DataFrame({'feature': feature_names, 'coefficient': coef})\n",
    "    coef_df = coef_df.reindex(coef_df.coefficient.abs().sort_values(ascending=False).index)\n",
    "    display(coef_df.head(20))\n",
    "else:\n",
    "    print('Best model not linear; skipping coefficients.')"
   ]
  },
  {
   "cell_type": "markdown",
   "id": "464be07a",
   "metadata": {},
   "source": [
    "## Predict on provided test set and save submission\n",
    "Attempt to run preprocessing + prediction on the uploaded `test.csv` and save `/mnt/data/submission_from_notebook.csv`. Adjust if columns differ."
   ]
  },
  {
   "cell_type": "code",
   "execution_count": null,
   "id": "2c73694c",
   "metadata": {},
   "outputs": [],
   "source": [
    "test_proc = test.copy()\n",
    "# Fill missing as before\n",
    "for col in numeric_cols:\n",
    "    if col in test_proc.columns:\n",
    "        test_proc[col].fillna(train_proc[col].median(), inplace=True)\n",
    "for col in categorical_cols:\n",
    "    if col in test_proc.columns:\n",
    "        test_proc[col].fillna(train_proc[col].mode()[0], inplace=True)\n",
    "\n",
    "try:\n",
    "    X_test_final = test_proc[numeric_cols + categorical_cols]\n",
    "    preds_test = best_pipeline.predict(X_test_final)\n",
    "    out = test_proc.copy()\n",
    "    out['TARGET(PRICE_IN_LACS)'] = preds_test\n",
    "    out[['TARGET(PRICE_IN_LACS)']].to_csv('/mnt/data/submission_from_notebook.csv', index=False)\n",
    "    print('Saved submission to /mnt/data/submission_from_notebook.csv')\n",
    "except Exception as e:\n",
    "    print('Could not predict on test.csv automatically:', e)\n"
   ]
  },
  {
   "cell_type": "markdown",
   "id": "21419749",
   "metadata": {},
   "source": [
    "## Conclusion\n",
    "- Preprocessing: median/mode imputation, One-Hot encoding, StandardScaler, and conservative outlier capping.\n",
    "- Models: OLS baseline, Ridge (best generalization in many cases), Lasso (sparse solution).\n",
    "\n",
    "Download the notebook and run it locally or in Colab. Adjust hyperparameters and preprocessing for experimentation."
   ]
  }
 ],
 "metadata": {},
 "nbformat": 4,
 "nbformat_minor": 5
}
